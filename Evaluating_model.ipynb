{
  "nbformat": 4,
  "nbformat_minor": 0,
  "metadata": {
    "colab": {
      "provenance": []
    },
    "kernelspec": {
      "name": "python3",
      "display_name": "Python 3"
    },
    "language_info": {
      "name": "python"
    }
  },
  "cells": [
    {
      "cell_type": "markdown",
      "source": [
        "Autorius: *Rugilė Vasaitytė* *s2110643*\n",
        "\n",
        "Variantas: *modelis resnet50; klasės [\"Scorpion\", \"Goldfish\", \"Teapot\"]*"
      ],
      "metadata": {
        "id": "wvCcheTtrIyV"
      }
    },
    {
      "cell_type": "code",
      "execution_count": 1,
      "metadata": {
        "id": "0VAGt8AYlzls"
      },
      "outputs": [],
      "source": [
        "import os\n",
        "import numpy as np\n",
        "import torch\n",
        "from torch.utils.data import DataLoader\n",
        "from torchvision import datasets, models, transforms\n",
        "from torchvision.datasets import ImageFolder\n",
        "import numpy as np"
      ]
    },
    {
      "cell_type": "code",
      "source": [
        "%pip install openimages\n",
        "from openimages.download import download_dataset"
      ],
      "metadata": {
        "id": "M3UKFezWl2HI"
      },
      "execution_count": null,
      "outputs": []
    },
    {
      "cell_type": "code",
      "source": [
        "def download_openimages(data_dir, classes, number_for_samples):\n",
        "    if not os.path.exists(data_dir):\n",
        "        os.makedirs(data_dir)\n",
        "    download_dataset(data_dir, classes, limit=number_for_samples)"
      ],
      "metadata": {
        "id": "_Oy8MRLIl5o9"
      },
      "execution_count": 3,
      "outputs": []
    },
    {
      "cell_type": "code",
      "source": [
        "def create_data_loader(data_dir, batch_size=32, num_workers=4, prefetch_factor=2):\n",
        "    # Define transformations\n",
        "    transform = transforms.Compose([\n",
        "        transforms.Resize((224, 224)),   # Resize images to 224x224\n",
        "        transforms.ToTensor(),           # Convert images to PyTorch tensors\n",
        "        transforms.Normalize(            # Normalize images\n",
        "            mean=[0.485, 0.456, 0.406],\n",
        "            std=[0.229, 0.224, 0.225]\n",
        "        )\n",
        "    ])\n",
        "\n",
        "    # Create dataset\n",
        "    dataset = ImageFolder(root=data_dir, transform=transform)\n",
        "\n",
        "    # Create DataLoader\n",
        "    data_loader = DataLoader(\n",
        "        dataset,\n",
        "        batch_size=batch_size,\n",
        "        shuffle=True,\n",
        "        num_workers=num_workers,\n",
        "        prefetch_factor=prefetch_factor,\n",
        "        persistent_workers=True\n",
        "    )\n",
        "\n",
        "    return data_loader"
      ],
      "metadata": {
        "id": "c3mwXpATl6KG"
      },
      "execution_count": 4,
      "outputs": []
    },
    {
      "cell_type": "code",
      "source": [
        "def calculate_info_in_respect_to_positive_class(prediction_matrix, class_id, true_labels, class_label):\n",
        "    result = []\n",
        "    for i, label in enumerate(true_labels):\n",
        "        match_flag = 1.0 if class_label == label else 0.0 # flags the sample as TRUE when it actually belongs to a POSITIVE class\n",
        "        result.append((prediction_matrix[i][class_id], match_flag)) # tuple => (prediction probability, does it actually belong to the POSITIVE class)\n",
        "    return result"
      ],
      "metadata": {
        "id": "j5UM9xMYl8q6"
      },
      "execution_count": 5,
      "outputs": []
    },
    {
      "cell_type": "code",
      "source": [
        "def calculate_stats(label_match, predictions, threshold):\n",
        "  is_prediction_above_threshold = (predictions > threshold).astype(np.float64)\n",
        "  # True Positives: Predicted positive and actually positive\n",
        "  TP = np.sum((label_match == 1) & (is_prediction_above_threshold == 1))\n",
        "  # True Negatives: Predicted negative and actually negative\n",
        "  TN = np.sum((label_match == 0) & (is_prediction_above_threshold == 0))\n",
        "  # False Positives: Predicted positive but actually negative\n",
        "  FP = np.sum((label_match == 0) & (is_prediction_above_threshold == 1))\n",
        "  # False Negatives: Predicted negative but actually positive\n",
        "  FN = np.sum((label_match == 1) & (is_prediction_above_threshold == 0))\n",
        "  stats = {}\n",
        "\n",
        "  denominator = TP + FP + TN + FN # for avoiding dividing by zero\n",
        "  stats['Accuracy'] = (TP + TN) / denominator if denominator != 0 else 0.0\n",
        "\n",
        "  denominator_precision = TP + FP\n",
        "  stats['Precision'] = TP / denominator_precision if denominator_precision != 0 else 0.0\n",
        "\n",
        "  denominator_recall = TP + FN\n",
        "  stats['Recall'] = TP / denominator_recall if denominator_recall != 0 else 0.0\n",
        "\n",
        "  denominator_f1 = stats['Precision'] + stats['Recall']\n",
        "  stats['f1'] = 2 * (stats['Precision'] * stats['Recall']) / denominator_f1 if denominator_f1 != 0 else 0.0\n",
        "\n",
        "  return stats"
      ],
      "metadata": {
        "id": "THuDM1nOl-gv"
      },
      "execution_count": 12,
      "outputs": []
    },
    {
      "cell_type": "code",
      "source": [
        "THRESHOLD = [0.71, 0.8, 0.98]"
      ],
      "metadata": {
        "id": "bSFKqTjymEJs"
      },
      "execution_count": 7,
      "outputs": []
    },
    {
      "cell_type": "code",
      "source": [
        "# Main #\n",
        "data_dir = \"data\"\n",
        "classes = [\"Scorpion\", \"Goldfish\", \"Teapot\"] # true labels 0,1,2\n",
        "class_idx = [71, 1, 849] # to find the predicted probability for the specified class in the probability vector\n",
        "number_for_samples = 334\n",
        "#-------------\n",
        "download_openimages(data_dir, classes, number_for_samples)\n",
        "\n",
        "data_loader = create_data_loader(data_dir)\n",
        "\n",
        "model = models.resnet50(pretrained=True)\n",
        "model.eval()\n",
        "\n",
        "# used for storing corresponding values(tuples):\n",
        "# sample's modeled probability to belong to a positive class and whether it actually had a ground label of the positive class\n",
        "class_info = [[] for _ in range(len(classes))]"
      ],
      "metadata": {
        "id": "tuzWMb_pmFHO",
        "colab": {
          "base_uri": "https://localhost:8080/"
        },
        "outputId": "2a52face-691f-4756-aaa5-0dd18f0020d9"
      },
      "execution_count": 8,
      "outputs": [
        {
          "output_type": "stream",
          "name": "stderr",
          "text": [
            "100%|██████████| 74/74 [00:01<00:00, 41.11it/s]\n",
            "100%|██████████| 334/334 [00:06<00:00, 55.17it/s]\n",
            "100%|██████████| 202/202 [00:03<00:00, 53.41it/s]\n",
            "100%|██████████| 13/13 [00:00<00:00, 13.65it/s]\n",
            "100%|██████████| 41/41 [00:01<00:00, 25.90it/s]\n",
            "Downloading: \"https://download.pytorch.org/models/resnet50-0676ba61.pth\" to /root/.cache/torch/hub/checkpoints/resnet50-0676ba61.pth\n",
            "100%|██████████| 97.8M/97.8M [00:01<00:00, 91.1MB/s]\n"
          ]
        }
      ]
    },
    {
      "cell_type": "code",
      "source": [
        "for images, labels in data_loader:\n",
        "  predictions = torch.sigmoid(model(images)).detach().numpy()\n",
        "  ground_labels = labels.numpy()\n",
        "\n",
        "  for i, class_id in enumerate(class_idx):\n",
        "            class_info[i].extend(\n",
        "                calculate_info_in_respect_to_positive_class(predictions, class_id, ground_labels, i))"
      ],
      "metadata": {
        "id": "hyhzisPRmG4n"
      },
      "execution_count": 9,
      "outputs": []
    },
    {
      "cell_type": "code",
      "source": [
        "# Print statistics for each image class\n",
        "for i, class_name in enumerate(classes):\n",
        "        tuple_ = class_info[i]\n",
        "        pred = [prob for prob, _ in tuple_]\n",
        "        matches = [match_l for _, match_l in tuple_] # ground truth matches or positive/negative classification of classess\n",
        "        print(f\"{class_name} class: {calculate_stats(np.array(matches), np.array(pred), THRESHOLD[i])}\")"
      ],
      "metadata": {
        "colab": {
          "base_uri": "https://localhost:8080/"
        },
        "id": "kZ0_R0_RmJ2E",
        "outputId": "ed600c4e-ed29-4567-8844-13f659320bf6"
      },
      "execution_count": 13,
      "outputs": [
        {
          "output_type": "stream",
          "name": "stdout",
          "text": [
            "Scorpion class: {'Accuracy': 0.5903614457831325, 'Precision': 0.5906432748538012, 'Recall': 0.6047904191616766, 'f1': 0.5976331360946745}\n",
            "Goldfish class: {'Accuracy': 0.2756024096385542, 'Precision': 0.08274231678486997, 'Recall': 0.2734375, 'f1': 0.12704174228675136}\n",
            "Teapot class: {'Accuracy': 0.9186746987951807, 'Precision': 0.8245614035087719, 'Recall': 0.9306930693069307, 'f1': 0.8744186046511628}\n"
          ]
        }
      ]
    }
  ]
}