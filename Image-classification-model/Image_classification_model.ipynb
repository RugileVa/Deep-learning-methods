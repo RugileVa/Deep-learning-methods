{
  "nbformat": 4,
  "nbformat_minor": 0,
  "metadata": {
    "colab": {
      "provenance": [],
      "gpuType": "V100",
      "machine_shape": "hm"
    },
    "kernelspec": {
      "name": "python3",
      "display_name": "Python 3"
    },
    "language_info": {
      "name": "python"
    },
    "accelerator": "GPU"
  },
  "cells": [
    {
      "cell_type": "code",
      "source": [
        "from google.colab import drive\n",
        "drive.mount('/content/drive')"
      ],
      "metadata": {
        "id": "_UPP62waJK0l"
      },
      "execution_count": null,
      "outputs": []
    },
    {
      "cell_type": "code",
      "source": [
        "!pip install oidv6"
      ],
      "metadata": {
        "id": "foH1O_N5JMhm"
      },
      "execution_count": null,
      "outputs": []
    },
    {
      "cell_type": "code",
      "source": [
        "# download data and move it to Drive so that it doesn't need to be downloaded each time the notebook is run\n",
        "\n",
        "!echo \"Y\" | oidv6 downloader --classes cat car pizza --type_data train --no_labels --limit 1000 --dest_dir OIDv6/train\n",
        "!echo \"Y\" | oidv6 downloader --classes cat car pizza --type_data test --no_labels --limit 150 --dest_dir OIDv6/test\n",
        "!echo \"Y\" | oidv6 downloader --classes cat car pizza --type_data validation --no_labels --limit 150 --dest_dir OIDv6/validation"
      ],
      "metadata": {
        "id": "O3l1ptMxJQgF",
        "colab": {
          "base_uri": "https://localhost:8080/"
        },
        "outputId": "38252888-959f-4486-a42d-0cdec1e90720"
      },
      "execution_count": null,
      "outputs": [
        {
          "output_type": "stream",
          "name": "stdout",
          "text": [
            "\u001b[H\u001b[2J----------------------------------------------------------------------------------------------------\n",
            "\u001b[1m\u001b[94mOIDv6 - Downloading single or multiple classes from the Open Images V6 Dataset ...\u001b[0m\n",
            "----------------------------------------------------------------------------------------------------\n",
            "[2024-03-19 21:15:50] Start: \n",
            "\tAuthor: Dmitry Ryumin\n",
            "\tEmail: dl_03.03.1991@mail.ru\n",
            "\tMaintainer: Dmitry Ryumin\n",
            "\tVersion: 1.0.5\n",
            "----------------------------------------------------------------------------------------------------\n",
            "[2024-03-19 21:15:50] Checking command line arguments for validity ...\n",
            "[2024-03-19 21:15:50] Creating Directories for Metadata ...\n",
            "----------------------------------------------------------------------------------------------------\n",
            "[2024-03-19 21:15:50] Downloading \"cat\" ...\n",
            "    File \"oidv6-train-annotations-bbox.csv\" not found ...\n",
            "        Automatic download ... 4411031 out of 4411031 (100%)                                        \n",
            "    Extracting data from \"oidv6-train-annotations-bbox.csv\" ...\n",
            "    Total \"train\" images 12516 ... of which will be loaded 1000 ...\n",
            "        Automatic download ... 1000 out of 1000 (100%)                                              \n",
            "----------------------------------------------------------------------------------------------------\n",
            "[2024-03-19 21:19:34] Downloading \"car\" ...\n",
            "    Total \"train\" images 89465 ... of which will be loaded 1000 ...\n",
            "        Automatic download ... 1000 out of 1000 (100%)                                              \n",
            "----------------------------------------------------------------------------------------------------\n",
            "[2024-03-19 21:21:58] Downloading \"pizza\" ...\n",
            "    Total \"train\" images 1251 ... of which will be loaded 1000 ...\n",
            "        Automatic download ... 1000 out of 1000 (100%)                                              \n",
            "----------------------------------------------------------------------------------------------------\n",
            "\u001b[H\u001b[2J----------------------------------------------------------------------------------------------------\n",
            "\u001b[1m\u001b[94mOIDv6 - Downloading single or multiple classes from the Open Images V6 Dataset ...\u001b[0m\n",
            "----------------------------------------------------------------------------------------------------\n",
            "[2024-03-19 21:24:26] Start: \n",
            "\tAuthor: Dmitry Ryumin\n",
            "\tEmail: dl_03.03.1991@mail.ru\n",
            "\tMaintainer: Dmitry Ryumin\n",
            "\tVersion: 1.0.5\n",
            "----------------------------------------------------------------------------------------------------\n",
            "[2024-03-19 21:24:26] Checking command line arguments for validity ...\n",
            "[2024-03-19 21:24:26] Creating Directories for Metadata ...\n",
            "----------------------------------------------------------------------------------------------------\n",
            "[2024-03-19 21:24:26] Downloading \"cat\" ...\n",
            "    Extracting data from \"test-annotations-bbox.csv\" ...\n",
            "    Total \"test\" images 1012 ... of which will be loaded 150 ...\n",
            "        All images have been downloaded before ...\n",
            "----------------------------------------------------------------------------------------------------\n",
            "[2024-03-19 21:24:27] Downloading \"car\" ...\n",
            "    Total \"test\" images 15288 ... of which will be loaded 150 ...\n",
            "        All images have been downloaded before ...\n",
            "----------------------------------------------------------------------------------------------------\n",
            "[2024-03-19 21:24:27] Downloading \"pizza\" ...\n",
            "    Total \"test\" images 184 ... of which will be loaded 150 ...\n",
            "        All images have been downloaded before ...\n",
            "----------------------------------------------------------------------------------------------------\n",
            "\u001b[H\u001b[2J----------------------------------------------------------------------------------------------------\n",
            "\u001b[1m\u001b[94mOIDv6 - Downloading single or multiple classes from the Open Images V6 Dataset ...\u001b[0m\n",
            "----------------------------------------------------------------------------------------------------\n",
            "[2024-03-19 21:24:28] Start: \n",
            "\tAuthor: Dmitry Ryumin\n",
            "\tEmail: dl_03.03.1991@mail.ru\n",
            "\tMaintainer: Dmitry Ryumin\n",
            "\tVersion: 1.0.5\n",
            "----------------------------------------------------------------------------------------------------\n",
            "[2024-03-19 21:24:28] Checking command line arguments for validity ...\n",
            "[2024-03-19 21:24:28] Creating Directories for Metadata ...\n",
            "----------------------------------------------------------------------------------------------------\n",
            "[2024-03-19 21:24:28] Downloading \"cat\" ...\n",
            "    Extracting data from \"validation-annotations-bbox.csv\" ...\n",
            "    Total \"validation\" images 345 ... of which will be loaded 150 ...\n",
            "        All images have been downloaded before ...\n",
            "----------------------------------------------------------------------------------------------------\n",
            "[2024-03-19 21:24:28] Downloading \"car\" ...\n",
            "    Total \"validation\" images 5095 ... of which will be loaded 150 ...\n",
            "        All images have been downloaded before ...\n",
            "----------------------------------------------------------------------------------------------------\n",
            "[2024-03-19 21:24:28] Downloading \"pizza\" ...\n",
            "    Total \"validation\" images 80 ... of which will be loaded 80 ...\n",
            "        All images have been downloaded before ...\n",
            "----------------------------------------------------------------------------------------------------\n"
          ]
        }
      ]
    },
    {
      "cell_type": "code",
      "source": [
        "import shutil\n",
        "\n",
        "target_folder = \"/content/drive/MyDrive/OIDv6\"\n",
        "download_folder = \"/content/OIDv6\"\n",
        "\n",
        "#remove existing target folder if it exists\n",
        "shutil.rmtree(target_folder)\n",
        "\n",
        "shutil.copytree(original_folder, target_folder)"
      ],
      "metadata": {
        "id": "d8uacqjqUwev"
      },
      "execution_count": null,
      "outputs": []
    },
    {
      "cell_type": "code",
      "source": [
        "!ls -la /content/drive/MyDrive/OIDv6/test"
      ],
      "metadata": {
        "colab": {
          "base_uri": "https://localhost:8080/"
        },
        "id": "t1DJnNrRSZ0M",
        "outputId": "b7c3342d-fc3d-4a3b-b2ba-f72af3b58050"
      },
      "execution_count": null,
      "outputs": [
        {
          "output_type": "stream",
          "name": "stdout",
          "text": [
            "total 12\n",
            "drwx------ 2 root root 4096 Mar 19 21:13 car\n",
            "drwx------ 2 root root 4096 Mar 19 21:13 cat\n",
            "drwx------ 2 root root 4096 Mar 19 21:14 pizza\n"
          ]
        }
      ]
    },
    {
      "cell_type": "code",
      "source": [
        "from google.colab import drive\n",
        "import os\n",
        "from PIL import Image\n",
        "\n",
        "# Mount Google Drive\n",
        "drive.mount('/content/drive')\n",
        "\n",
        "# Function to resize images in a folder\n",
        "def resize_images_in_folder(folder_path):\n",
        "    # Get a list of all image files in the folder\n",
        "    image_files = [f for f in os.listdir(folder_path) if os.path.isfile(os.path.join(folder_path, f)) and f.endswith('.jpg')]\n",
        "\n",
        "    # Define the desired size for the resized images\n",
        "    desired_size = (224, 224)  # Adjust the size as needed\n",
        "\n",
        "    # Iterate over each image file and resize it\n",
        "    for image_file in image_files:\n",
        "        # Open the image file\n",
        "        with Image.open(os.path.join(folder_path, image_file)) as img:\n",
        "            # Resize the image\n",
        "            resized_img = img.resize(desired_size, Image.ANTIALIAS)\n",
        "\n",
        "            # Overwrite the original image with the resized image\n",
        "            resized_img.save(os.path.join(folder_path, image_file))\n",
        "\n",
        "# Resize images in specified directories\n",
        "directories_to_resize = [\n",
        "    \"/content/drive/MyDrive/OIDv6/validation/car\",\n",
        "    \"/content/drive/MyDrive/OIDv6/validation/cat\",\n",
        "    \"/content/drive/MyDrive/OIDv6/validation/pizza\",\n",
        "    \"/content/drive/MyDrive/OIDv6/train/car\",\n",
        "    \"/content/drive/MyDrive/OIDv6/train/cat\",\n",
        "    \"/content/drive/MyDrive/OIDv6/train/pizza\"\n",
        "]\n",
        "\n",
        "for directory in directories_to_resize:\n",
        "    resize_images_in_folder(directory)"
      ],
      "metadata": {
        "id": "6a0kIzcnXkrx"
      },
      "execution_count": null,
      "outputs": []
    },
    {
      "cell_type": "code",
      "source": [
        "from google.colab import drive\n",
        "drive.mount('/content/drive')\n",
        "folder_test = '/content/drive/MyDrive/OIDv6/test'\n",
        "folder_validation = '/content/drive/MyDrive/OIDv6/validation'\n",
        "folder_train = '/content/drive/MyDrive/OIDv6/train'"
      ],
      "metadata": {
        "id": "QlF3p6RVJbI2"
      },
      "execution_count": null,
      "outputs": []
    },
    {
      "cell_type": "code",
      "source": [
        "import os\n",
        "import random\n",
        "import matplotlib.pyplot as plt\n",
        "from PIL import Image"
      ],
      "metadata": {
        "id": "6GQmgMQpY-Ba"
      },
      "execution_count": null,
      "outputs": []
    },
    {
      "cell_type": "code",
      "source": [
        "import torch\n",
        "import torch.nn as nn\n",
        "import torch.optim as optim\n",
        "from torch.utils.data import DataLoader\n",
        "from torchvision import datasets, transforms\n",
        "import torch.nn.functional as F\n",
        "\n",
        "DIM = 32\n",
        "CH = 3\n",
        "\n",
        "class Net(nn.Module):\n",
        "    def __init__(self, num_classes=3):\n",
        "        super(Net, self).__init__()\n",
        "\n",
        "        self.conv1 = nn.Conv2d(in_channels=CH, out_channels=32, kernel_size=3, padding=1)\n",
        "        self.batchnorm1 = nn.BatchNorm2d(32)\n",
        "        self.conv2 = nn.Conv2d(in_channels=32, out_channels=32, kernel_size=3, padding=1)\n",
        "        self.batchnorm2 = nn.BatchNorm2d(32)\n",
        "        self.maxpool1 = nn.MaxPool2d(kernel_size=2)\n",
        "        self.dropout1 = nn.Dropout2d(p=0.2)\n",
        "\n",
        "        self.conv3 = nn.Conv2d(in_channels=32, out_channels=64, kernel_size=3, padding=1)\n",
        "        self.batchnorm3 = nn.BatchNorm2d(64)\n",
        "        self.conv4 = nn.Conv2d(in_channels=64, out_channels=64, kernel_size=3, padding=1)\n",
        "        self.batchnorm4 = nn.BatchNorm2d(64)\n",
        "        self.maxpool2 = nn.MaxPool2d(kernel_size=2)\n",
        "        self.dropout2 = nn.Dropout2d(p=0.3)\n",
        "\n",
        "        self.conv5 = nn.Conv2d(in_channels=64, out_channels=128, kernel_size=3, padding=1)\n",
        "        self.batchnorm5 = nn.BatchNorm2d(128)\n",
        "        self.conv6 = nn.Conv2d(in_channels=128, out_channels=128, kernel_size=3, padding=1)\n",
        "        self.batchnorm6 = nn.BatchNorm2d(128)\n",
        "        self.maxpool3 = nn.MaxPool2d(kernel_size=2)\n",
        "        self.dropout3 = nn.Dropout2d(p=0.4)\n",
        "\n",
        "        self.flatten = nn.Flatten()\n",
        "        self.fc1 = nn.Linear(128 * (DIM // 8) * (DIM // 8), 128)\n",
        "        self.batchnorm_fc = nn.BatchNorm1d(128)\n",
        "        self.dropout_fc = nn.Dropout(p=0.5)\n",
        "        self.fc2 = nn.Linear(128, num_classes)\n",
        "\n",
        "    def forward(self, x):\n",
        "        x = torch.relu(self.conv1(x))\n",
        "        x = self.batchnorm1(x)\n",
        "        x = torch.relu(self.conv2(x))\n",
        "        x = self.batchnorm2(x)\n",
        "        x = self.maxpool1(x)\n",
        "        x = self.dropout1(x)\n",
        "\n",
        "        x = torch.relu(self.conv3(x))\n",
        "        x = self.batchnorm3(x)\n",
        "        x = torch.relu(self.conv4(x))\n",
        "        x = self.batchnorm4(x)\n",
        "        x = self.maxpool2(x)\n",
        "        x = self.dropout2(x)\n",
        "\n",
        "        x = torch.relu(self.conv5(x))\n",
        "        x = self.batchnorm5(x)\n",
        "        x = torch.relu(self.conv6(x))\n",
        "        x = self.batchnorm6(x)\n",
        "        x = self.maxpool3(x)\n",
        "        x = self.dropout3(x)\n",
        "\n",
        "        x = self.flatten(x)\n",
        "        x = torch.relu(self.fc1(x))\n",
        "        x = self.batchnorm_fc(x)\n",
        "        x = self.dropout_fc(x)\n",
        "        x = self.fc2(x)\n",
        "\n",
        "        return x\n",
        "\n",
        "# Define your model\n",
        "model = Net(num_classes=3)"
      ],
      "metadata": {
        "id": "QWTsX3xMJbv5"
      },
      "execution_count": null,
      "outputs": []
    },
    {
      "cell_type": "code",
      "source": [
        "data_transforms = {\n",
        "    'train': transforms.Compose([\n",
        "        transforms.RandomHorizontalFlip(),\n",
        "        transforms.RandomRotation(20),\n",
        "        transforms.ColorJitter(brightness=0.4, contrast=0.2, saturation=0.2, hue=0.1),\n",
        "        transforms.RandomGrayscale(p=0.1),\n",
        "        transforms.Resize((32, 32)),\n",
        "        transforms.ToTensor(),\n",
        "        transforms.Normalize([0.5, 0.5, 0.5], [0.5, 0.5, 0.5])\n",
        "    ]),\n",
        "    'validation': transforms.Compose([\n",
        "        transforms.Resize((32, 32)),\n",
        "        transforms.ToTensor(),\n",
        "        transforms.Normalize([0.5, 0.5, 0.5], [0.5, 0.5, 0.5])\n",
        "    ]),\n",
        "    'test': transforms.Compose([\n",
        "        transforms.Resize((32, 32)),\n",
        "        transforms.ToTensor(),\n",
        "        transforms.Normalize([0.5, 0.5, 0.5], [0.5, 0.5, 0.5])\n",
        "    ])\n",
        "}"
      ],
      "metadata": {
        "id": "WPpoPGV4TqRq"
      },
      "execution_count": null,
      "outputs": []
    },
    {
      "cell_type": "code",
      "source": [
        "train_data = datasets.ImageFolder(folder_train, transform=data_transforms['train'])\n",
        "test_data = datasets.ImageFolder(folder_test, transform=data_transforms['test'])\n",
        "validation_data = datasets.ImageFolder(folder_test, transform=data_transforms['validation'])\n",
        "\n",
        "num_workers = 2\n",
        "\n",
        "# loading data\n",
        "train_loader = DataLoader(train_data, batch_size=16, shuffle=True, num_workers=num_workers)\n",
        "test_loader = DataLoader(test_data, batch_size=16, shuffle=False, num_workers=num_workers)\n",
        "validation_loader = DataLoader(validation_data, batch_size=16, shuffle=False, num_workers=num_workers)"
      ],
      "metadata": {
        "id": "8lJFtXRkJqa-"
      },
      "execution_count": null,
      "outputs": []
    },
    {
      "cell_type": "code",
      "source": [
        "import torch\n",
        "import torch.optim as optim\n",
        "import numpy as np"
      ],
      "metadata": {
        "id": "Gdzy5JYja6cD"
      },
      "execution_count": null,
      "outputs": []
    },
    {
      "cell_type": "code",
      "source": [
        "device = torch.device(\"cuda:0\" if torch.cuda.is_available() else \"cpu\")\n",
        "model = Net().to(device)\n",
        "\n",
        "# loss function. It is combined with softmax:)\n",
        "criterion = nn.CrossEntropyLoss()\n",
        "optimizer = optim.Adam(model.parameters(), lr=0.001)\n",
        "\n",
        "# to plot accuracy and loss\n",
        "history_acc = []\n",
        "history_loss = []\n",
        "history_val_acc = []\n",
        "history_val_loss = []\n",
        "\n",
        "num_epochs = 30\n",
        "\n",
        "for epoch in range(num_epochs):\n",
        "    # starting training\n",
        "    model.train()\n",
        "    train_loss_values = np.array([], dtype = np.float32)\n",
        "    train_corrects = 0\n",
        "\n",
        "    for i, (inputs, labels) in enumerate(train_loader, 1):\n",
        "        inputs, labels = inputs.to(device), labels.to(device)\n",
        "\n",
        "        optimizer.zero_grad()\n",
        "\n",
        "        outputs = model(inputs)\n",
        "\n",
        "        _, preds = torch.max(outputs, 1)\n",
        "        loss = criterion(outputs, labels)\n",
        "\n",
        "        train_corrects += torch.sum(preds == labels.data)\n",
        "        train_loss_values = np.append(train_loss_values, loss.cpu().detach().numpy())\n",
        "\n",
        "        loss.backward()\n",
        "        optimizer.step()\n",
        "\n",
        "        optimizer.zero_grad()\n",
        "\n",
        "        if i % 50 == 0:\n",
        "           print(f\"Step: train_loss {np.mean(train_loss_values):.4f}\")\n",
        "\n",
        "    epoch_loss = np.mean(train_loss_values)\n",
        "    epoch_acc = train_corrects.double() / len(train_data)\n",
        "    print(f\"Epoch [{epoch+1}/{num_epochs}]\")\n",
        "    print(f\"Trn Loss: {epoch_loss:.4f}, Trn Acc: {epoch_acc:.4f}\")\n",
        "    history_acc.append(epoch_acc)\n",
        "    history_loss.append(epoch_loss)\n",
        "\n",
        "    # validation (without dropouts)\n",
        "    model.eval()\n",
        "    val_loss_values = np.array([], dtype = np.float32)\n",
        "    val_corrects = 0\n",
        "\n",
        "    with torch.no_grad():\n",
        "      for inputs, labels in validation_loader:\n",
        "          inputs, labels = inputs.to(device), labels.to(device)\n",
        "\n",
        "          outputs = model(inputs)\n",
        "          _, preds = torch.max(outputs, 1)\n",
        "          loss = criterion(outputs, labels)\n",
        "\n",
        "          val_loss_values = np.append(val_loss_values, loss.cpu().detach().numpy())\n",
        "          val_corrects += torch.sum(preds == labels.data)\n",
        "\n",
        "    epoch_loss = np.mean(val_loss_values)\n",
        "    epoch_acc = val_corrects.double() / len(test_data)\n",
        "    print(f\"Val Loss: {epoch_loss:.4f}, Val Acc: {epoch_acc:.4f}\")\n",
        "    history_val_acc.append(epoch_acc)\n",
        "    history_val_loss.append(epoch_loss)\n"
      ],
      "metadata": {
        "id": "Ux2qobAMJry_",
        "colab": {
          "base_uri": "https://localhost:8080/"
        },
        "outputId": "b0187732-9257-4016-8ddf-00cd23a7bb3d"
      },
      "execution_count": null,
      "outputs": [
        {
          "output_type": "stream",
          "name": "stdout",
          "text": [
            "Step: train_loss 1.1328\n",
            "Step: train_loss 1.0498\n",
            "Step: train_loss 1.0067\n",
            "Epoch [1/30]\n",
            "Trn Loss: 0.9787, Trn Acc: 0.5547\n",
            "Val Loss: 0.6703, Val Acc: 0.7178\n",
            "Step: train_loss 0.8528\n",
            "Step: train_loss 0.8485\n",
            "Step: train_loss 0.8318\n",
            "Epoch [2/30]\n",
            "Trn Loss: 0.8239, Trn Acc: 0.6283\n",
            "Val Loss: 0.5590, Val Acc: 0.7756\n",
            "Step: train_loss 0.8274\n",
            "Step: train_loss 0.7930\n",
            "Step: train_loss 0.7672\n",
            "Epoch [3/30]\n",
            "Trn Loss: 0.7545, Trn Acc: 0.6787\n",
            "Val Loss: 0.4791, Val Acc: 0.8111\n",
            "Step: train_loss 0.7282\n",
            "Step: train_loss 0.7223\n",
            "Step: train_loss 0.7246\n",
            "Epoch [4/30]\n",
            "Trn Loss: 0.7295, Trn Acc: 0.6947\n",
            "Val Loss: 0.4467, Val Acc: 0.8378\n",
            "Step: train_loss 0.7467\n",
            "Step: train_loss 0.7400\n",
            "Step: train_loss 0.7208\n",
            "Epoch [5/30]\n",
            "Trn Loss: 0.7189, Trn Acc: 0.7027\n",
            "Val Loss: 0.4259, Val Acc: 0.8511\n",
            "Step: train_loss 0.6667\n",
            "Step: train_loss 0.6850\n",
            "Step: train_loss 0.6612\n",
            "Epoch [6/30]\n",
            "Trn Loss: 0.6572, Trn Acc: 0.7313\n",
            "Val Loss: 0.3671, Val Acc: 0.8556\n",
            "Step: train_loss 0.6443\n",
            "Step: train_loss 0.6748\n",
            "Step: train_loss 0.6873\n",
            "Epoch [7/30]\n",
            "Trn Loss: 0.6873, Trn Acc: 0.7143\n",
            "Val Loss: 0.4024, Val Acc: 0.8511\n",
            "Step: train_loss 0.6772\n",
            "Step: train_loss 0.6538\n",
            "Step: train_loss 0.6548\n",
            "Epoch [8/30]\n",
            "Trn Loss: 0.6588, Trn Acc: 0.7320\n",
            "Val Loss: 0.3726, Val Acc: 0.8644\n",
            "Step: train_loss 0.6516\n",
            "Step: train_loss 0.6422\n",
            "Step: train_loss 0.6394\n",
            "Epoch [9/30]\n",
            "Trn Loss: 0.6450, Trn Acc: 0.7353\n",
            "Val Loss: 0.3428, Val Acc: 0.9000\n",
            "Step: train_loss 0.6334\n",
            "Step: train_loss 0.6347\n",
            "Step: train_loss 0.6189\n",
            "Epoch [10/30]\n",
            "Trn Loss: 0.6189, Trn Acc: 0.7513\n",
            "Val Loss: 0.3143, Val Acc: 0.8867\n",
            "Step: train_loss 0.6107\n",
            "Step: train_loss 0.6324\n",
            "Step: train_loss 0.6367\n",
            "Epoch [11/30]\n",
            "Trn Loss: 0.6246, Trn Acc: 0.7493\n",
            "Val Loss: 0.2823, Val Acc: 0.8978\n",
            "Step: train_loss 0.6111\n",
            "Step: train_loss 0.6253\n",
            "Step: train_loss 0.6051\n",
            "Epoch [12/30]\n",
            "Trn Loss: 0.6075, Trn Acc: 0.7540\n",
            "Val Loss: 0.3218, Val Acc: 0.8778\n",
            "Step: train_loss 0.5971\n",
            "Step: train_loss 0.5883\n",
            "Step: train_loss 0.6000\n",
            "Epoch [13/30]\n",
            "Trn Loss: 0.5939, Trn Acc: 0.7593\n",
            "Val Loss: 0.2550, Val Acc: 0.9111\n",
            "Step: train_loss 0.6372\n",
            "Step: train_loss 0.6347\n",
            "Step: train_loss 0.6334\n",
            "Epoch [14/30]\n",
            "Trn Loss: 0.6146, Trn Acc: 0.7530\n",
            "Val Loss: 0.2853, Val Acc: 0.8889\n",
            "Step: train_loss 0.6042\n",
            "Step: train_loss 0.5789\n",
            "Step: train_loss 0.6065\n",
            "Epoch [15/30]\n",
            "Trn Loss: 0.6066, Trn Acc: 0.7540\n",
            "Val Loss: 0.2816, Val Acc: 0.8933\n",
            "Step: train_loss 0.5826\n",
            "Step: train_loss 0.5978\n",
            "Step: train_loss 0.5755\n",
            "Epoch [16/30]\n",
            "Trn Loss: 0.5728, Trn Acc: 0.7793\n",
            "Val Loss: 0.2692, Val Acc: 0.8978\n",
            "Step: train_loss 0.6109\n",
            "Step: train_loss 0.5733\n",
            "Step: train_loss 0.5750\n",
            "Epoch [17/30]\n",
            "Trn Loss: 0.5732, Trn Acc: 0.7707\n",
            "Val Loss: 0.2812, Val Acc: 0.8978\n",
            "Step: train_loss 0.5767\n",
            "Step: train_loss 0.5643\n",
            "Step: train_loss 0.5592\n",
            "Epoch [18/30]\n",
            "Trn Loss: 0.5585, Trn Acc: 0.7760\n",
            "Val Loss: 0.3028, Val Acc: 0.8733\n",
            "Step: train_loss 0.5541\n",
            "Step: train_loss 0.5429\n",
            "Step: train_loss 0.5465\n",
            "Epoch [19/30]\n",
            "Trn Loss: 0.5501, Trn Acc: 0.7847\n",
            "Val Loss: 0.2297, Val Acc: 0.9178\n",
            "Step: train_loss 0.5651\n",
            "Step: train_loss 0.5731\n",
            "Step: train_loss 0.5648\n",
            "Epoch [20/30]\n",
            "Trn Loss: 0.5709, Trn Acc: 0.7813\n",
            "Val Loss: 0.2727, Val Acc: 0.8956\n",
            "Step: train_loss 0.5330\n",
            "Step: train_loss 0.5594\n",
            "Step: train_loss 0.5589\n",
            "Epoch [21/30]\n",
            "Trn Loss: 0.5484, Trn Acc: 0.7793\n",
            "Val Loss: 0.2177, Val Acc: 0.9311\n",
            "Step: train_loss 0.5684\n",
            "Step: train_loss 0.5647\n",
            "Step: train_loss 0.5620\n",
            "Epoch [22/30]\n",
            "Trn Loss: 0.5567, Trn Acc: 0.7800\n",
            "Val Loss: 0.2709, Val Acc: 0.8956\n",
            "Step: train_loss 0.5454\n",
            "Step: train_loss 0.5447\n",
            "Step: train_loss 0.5423\n",
            "Epoch [23/30]\n",
            "Trn Loss: 0.5420, Trn Acc: 0.7887\n",
            "Val Loss: 0.2789, Val Acc: 0.8867\n",
            "Step: train_loss 0.5338\n",
            "Step: train_loss 0.4992\n",
            "Step: train_loss 0.5190\n",
            "Epoch [24/30]\n",
            "Trn Loss: 0.5290, Trn Acc: 0.7773\n",
            "Val Loss: 0.2259, Val Acc: 0.9156\n",
            "Step: train_loss 0.5035\n",
            "Step: train_loss 0.5291\n",
            "Step: train_loss 0.5416\n",
            "Epoch [25/30]\n",
            "Trn Loss: 0.5344, Trn Acc: 0.7873\n",
            "Val Loss: 0.2255, Val Acc: 0.9267\n",
            "Step: train_loss 0.5628\n",
            "Step: train_loss 0.5443\n",
            "Step: train_loss 0.5360\n",
            "Epoch [26/30]\n",
            "Trn Loss: 0.5577, Trn Acc: 0.7750\n",
            "Val Loss: 0.3527, Val Acc: 0.8578\n",
            "Step: train_loss 0.6861\n",
            "Step: train_loss 0.6646\n",
            "Step: train_loss 0.6432\n",
            "Epoch [27/30]\n",
            "Trn Loss: 0.6312, Trn Acc: 0.7367\n",
            "Val Loss: 0.2648, Val Acc: 0.9022\n",
            "Step: train_loss 0.5915\n",
            "Step: train_loss 0.5763\n",
            "Step: train_loss 0.5673\n",
            "Epoch [28/30]\n",
            "Trn Loss: 0.5585, Trn Acc: 0.7723\n",
            "Val Loss: 0.2371, Val Acc: 0.9089\n",
            "Step: train_loss 0.5816\n",
            "Step: train_loss 0.5597\n",
            "Step: train_loss 0.5372\n",
            "Epoch [29/30]\n",
            "Trn Loss: 0.5372, Trn Acc: 0.7890\n",
            "Val Loss: 0.2649, Val Acc: 0.9000\n",
            "Step: train_loss 0.4876\n",
            "Step: train_loss 0.5224\n",
            "Step: train_loss 0.5334\n",
            "Epoch [30/30]\n",
            "Trn Loss: 0.5240, Trn Acc: 0.7947\n",
            "Val Loss: 0.2447, Val Acc: 0.9222\n"
          ]
        }
      ]
    },
    {
      "cell_type": "code",
      "source": [
        "# Plot training history\n",
        "plt.plot(history_loss, label='Train Loss')\n",
        "plt.plot(history_val_loss, label='Validation Loss')\n",
        "plt.xlabel('Epochs')\n",
        "plt.ylabel('Loss')\n",
        "plt.legend()\n",
        "plt.show()\n",
        "\n",
        "history_acc = [acc.cpu().numpy() for acc in history_acc]\n",
        "history_val_acc = [val_acc.cpu().numpy() for val_acc in history_val_acc]\n",
        "\n",
        "# Plot accuracy history\n",
        "plt.plot(history_acc, label='Train Accuracy')\n",
        "plt.plot(history_val_acc, label='Validation Accuracy')\n",
        "plt.xlabel('Epochs')\n",
        "plt.ylabel('Accuracy')\n",
        "plt.legend()\n",
        "plt.show()"
      ],
      "metadata": {
        "colab": {
          "base_uri": "https://localhost:8080/",
          "height": 881
        },
        "id": "owI_FbDAZ2DO",
        "outputId": "ccadf4ec-68b2-4020-fef0-c667c223c686"
      },
      "execution_count": null,
      "outputs": [
        {
          "output_type": "display_data",
          "data": {
            "text/plain": [
              "<Figure size 640x480 with 1 Axes>"
            ],
            "image/png": "[encoded data removed]"
          },
          "metadata": {}
        },
        {
          "output_type": "display_data",
          "data": {
            "text/plain": [
              "<Figure size 640x480 with 1 Axes>"
            ],
            "image/png": "[encoded data removed]"
          },
          "metadata": {}
        }
      ]
    },
    {
      "cell_type": "code",
      "source": [
        "# test\n",
        "model.eval()\n",
        "y_true = []\n",
        "y_pred = []\n",
        "\n",
        "for inputs, labels in test_loader:\n",
        "    inputs, labels = inputs.to(device), labels.to(device)\n",
        "\n",
        "    with torch.no_grad():\n",
        "        outputs = model(inputs)\n",
        "        _, preds = torch.max(outputs, 1)\n",
        "        loss = criterion(outputs, labels)\n",
        "\n",
        "    y_true.extend(labels.cpu().numpy())\n",
        "    y_pred.extend(preds.cpu().numpy())"
      ],
      "metadata": {
        "id": "OW6vwj-6KEU5"
      },
      "execution_count": null,
      "outputs": []
    },
    {
      "cell_type": "code",
      "source": [
        "# get class names\n",
        "data_dir = '/content/drive/MyDrive/OIDv6/test'\n",
        "dataset = datasets.ImageFolder(data_dir)\n",
        "\n",
        "class_names = dataset.classes\n",
        "\n",
        "print(class_names)"
      ],
      "metadata": {
        "id": "u4AmKMmKKE3m"
      },
      "execution_count": null,
      "outputs": []
    },
    {
      "cell_type": "code",
      "source": [
        "# metric visualisation\n",
        "from sklearn.metrics import confusion_matrix, classification_report\n",
        "import seaborn as sns\n",
        "\n",
        "conf_matrix = confusion_matrix(y_true, y_pred)\n",
        "\n",
        "# visualize confusion matrix\n",
        "plt.figure(figsize=(3, 3))\n",
        "sns.heatmap(conf_matrix, annot=True, cmap=\"Blues\", fmt=\"d\", xticklabels=class_names, yticklabels=class_names)\n",
        "plt.xlabel('Predicted labels')\n",
        "plt.ylabel('True labels')\n",
        "plt.title('Confusion Matrix')\n",
        "plt.show()\n",
        "\n",
        "print(classification_report(y_true, y_pred, target_names=class_names))"
      ],
      "metadata": {
        "id": "gDsal6vJKItv",
        "colab": {
          "base_uri": "https://localhost:8080/",
          "height": 511
        },
        "outputId": "464c5637-5aff-41a1-c3ce-6a79b9588770"
      },
      "execution_count": null,
      "outputs": [
        {
          "output_type": "display_data",
          "data": {
            "text/plain": [
              "<Figure size 300x300 with 2 Axes>"
            ],
            "image/png": "[encoded data removed]"
          },
          "metadata": {}
        },
        {
          "output_type": "stream",
          "name": "stdout",
          "text": [
            "              precision    recall  f1-score   support\n",
            "\n",
            "         car       0.94      0.91      0.93       150\n",
            "         cat       0.95      0.87      0.91       150\n",
            "       pizza       0.88      0.99      0.93       150\n",
            "\n",
            "    accuracy                           0.92       450\n",
            "   macro avg       0.93      0.92      0.92       450\n",
            "weighted avg       0.93      0.92      0.92       450\n",
            "\n"
          ]
        }
      ]
    },
    {
      "cell_type": "code",
      "source": [
        "from google.colab import drive\n",
        "drive.mount('/content/drive')"
      ],
      "metadata": {
        "id": "8SBqf4ZQKNIe",
        "colab": {
          "base_uri": "https://localhost:8080/"
        },
        "outputId": "b496c09c-f716-49f3-a27d-82aea14d285d"
      },
      "execution_count": null,
      "outputs": [
        {
          "output_type": "stream",
          "name": "stdout",
          "text": [
            "Mounted at /content/drive\n"
          ]
        }
      ]
    },
    {
      "cell_type": "code",
      "source": [
        "torch.save(model.state_dict(), \"/content/drive/MyDrive/modelwithtorch5.pth\")"
      ],
      "metadata": {
        "id": "Hdb5QD3qxz7v"
      },
      "execution_count": null,
      "outputs": []
    }
  ]
}